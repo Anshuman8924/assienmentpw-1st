{
 "cells": [
  {
   "cell_type": "code",
   "execution_count": 1,
   "id": "74de4514-01a7-4087-8553-5ac46b2cb335",
   "metadata": {},
   "outputs": [],
   "source": [
    "#Question 1 who developed python programing\n",
    "#           language ?"
   ]
  },
  {
   "cell_type": "code",
   "execution_count": 2,
   "id": "0181289a-f568-442b-a279-8d753aa7cdd9",
   "metadata": {},
   "outputs": [],
   "source": [
    "#Answer -' Guido Van Rossum' developed python\n",
    "#        programing language ."
   ]
  },
  {
   "cell_type": "code",
   "execution_count": 3,
   "id": "5c1bb407-ae71-4760-a764-fe56ee7e9d08",
   "metadata": {},
   "outputs": [],
   "source": [
    "#Question 2 which type of programing does python\n",
    "#          support ?"
   ]
  },
  {
   "cell_type": "code",
   "execution_count": 4,
   "id": "cbc0500a-9fe9-44ca-911b-4ac9fa0021e8",
   "metadata": {},
   "outputs": [],
   "source": [
    "#Answer - python supports \"Object-oriented\n",
    "#           and structred programig\" ."
   ]
  },
  {
   "cell_type": "code",
   "execution_count": 5,
   "id": "69559d15-393d-46eb-873c-1825ccbc2047",
   "metadata": {},
   "outputs": [],
   "source": [
    "#Question 3  Is python case sensitive when dealing\n",
    "#      with identifiers ?"
   ]
  },
  {
   "cell_type": "code",
   "execution_count": 6,
   "id": "41644481-8b8c-4248-94c4-0a96ba00dd8b",
   "metadata": {},
   "outputs": [],
   "source": [
    "#Answer -Yes, Python is a case-sensitive when\n",
    "#        dealing with identifiers ."
   ]
  },
  {
   "cell_type": "code",
   "execution_count": 7,
   "id": "459e0f07-bb2a-4b4a-a9d0-af16ed699d7d",
   "metadata": {},
   "outputs": [],
   "source": [
    "#Question 4 what is the correct extension of the\n",
    "#            python file ?"
   ]
  },
  {
   "cell_type": "code",
   "execution_count": 8,
   "id": "560937ec-13b1-4531-994e-e3d6c797c996",
   "metadata": {},
   "outputs": [],
   "source": [
    "#Answer - .py is the correct extension of the\n",
    "#            python file .\n"
   ]
  },
  {
   "cell_type": "code",
   "execution_count": 9,
   "id": "6d17bcc6-a536-4cb0-8708-8100d556e3ce",
   "metadata": {},
   "outputs": [],
   "source": [
    "#Question 5 Is python code compiled or\n",
    "#            interpreted ?"
   ]
  },
  {
   "cell_type": "code",
   "execution_count": 10,
   "id": "5c18169a-cc79-481b-b6e5-0fd141b843e8",
   "metadata": {},
   "outputs": [],
   "source": [
    "#Answer - Python is both compiled as well as an\n",
    "#         interpreted language."
   ]
  },
  {
   "cell_type": "code",
   "execution_count": 11,
   "id": "d061623c-32da-4973-aa99-8c5120f8a578",
   "metadata": {},
   "outputs": [],
   "source": [
    "#Question 6 Name a few blocks of code used to\n",
    "#         define in python language ?"
   ]
  },
  {
   "cell_type": "code",
   "execution_count": 12,
   "id": "29513f46-9a11-4aa4-b33e-d7e6493459ed",
   "metadata": {},
   "outputs": [],
   "source": [
    "#Answer -  a module, a function body, and \n",
    "#          a class definition. "
   ]
  },
  {
   "cell_type": "code",
   "execution_count": 13,
   "id": "c11654ea-81c5-489a-9f45-3b7d6172ddc9",
   "metadata": {},
   "outputs": [],
   "source": [
    "#Question 7 State a character used to give single\n",
    "#       line comment in python ?"
   ]
  },
  {
   "cell_type": "code",
   "execution_count": 14,
   "id": "ebf58dc6-bceb-442f-9962-835e802a6526",
   "metadata": {},
   "outputs": [],
   "source": [
    "#Answer - Single # character ."
   ]
  },
  {
   "cell_type": "code",
   "execution_count": 15,
   "id": "b86be62e-aa1d-4838-8f42-f293a4b3f61d",
   "metadata": {},
   "outputs": [],
   "source": [
    "#Question 8 Mention functions which can help us to\n",
    "#          find the version of python that we are\n",
    "#            currently working on ?"
   ]
  },
  {
   "cell_type": "code",
   "execution_count": 16,
   "id": "59317c64-8ec1-41ea-a544-42de7f2bf55a",
   "metadata": {},
   "outputs": [],
   "source": [
    "#Answer - The function\" sys. version\" can help us to\n",
    "#         find the version of python that we are\n",
    "#         currently working on."
   ]
  },
  {
   "cell_type": "code",
   "execution_count": 1,
   "id": "eebd249f-ca15-417c-9036-dbfe648a527f",
   "metadata": {},
   "outputs": [],
   "source": [
    "#Question 9 Python supports the creation of anonymous functions at runtime, using a\n",
    "#         construct called ........ ?"
   ]
  },
  {
   "cell_type": "code",
   "execution_count": 2,
   "id": "61e0ce8a-102f-4453-9991-6ff2d388f5f7",
   "metadata": {},
   "outputs": [],
   "source": [
    "#Answer - Python supports the creation of anonymous functions (i.e. functions that are\n",
    "#           not bound to a name) at runtime, using a construct called lambda."
   ]
  },
  {
   "cell_type": "code",
   "execution_count": 3,
   "id": "8b808cdc-a583-4324-ad96-930a3920f110",
   "metadata": {},
   "outputs": [],
   "source": [
    "#Question 10 what does pip stand for python ?"
   ]
  },
  {
   "cell_type": "code",
   "execution_count": 4,
   "id": "57619bb4-9265-431c-9286-5d7cd87082aa",
   "metadata": {},
   "outputs": [],
   "source": [
    "#Answer -  pip (an acronym of “pip Install Packages”) is today the standard tool for\n",
    "#            installing Python packages and their dependencies in a secure manner.\n"
   ]
  },
  {
   "cell_type": "code",
   "execution_count": 1,
   "id": "fa33839a-e411-440c-b108-119a058aebee",
   "metadata": {},
   "outputs": [],
   "source": [
    "#Question 11 mention a few built in function in python ?"
   ]
  },
  {
   "cell_type": "code",
   "execution_count": 3,
   "id": "e77e5df2-16c1-47b5-8e77-dea92883102e",
   "metadata": {},
   "outputs": [],
   "source": [
    "#Answer -           Function\tDescription\n",
    "#bin()\t    Returns the binary version of a number\n",
    "#bool()\t     Returns the boolean value of the specified object\n",
    "#bytearray()\tReturns an array of bytes\n",
    "#bytes()\t  Returns a bytes object"
   ]
  },
  {
   "cell_type": "code",
   "execution_count": 4,
   "id": "b0133b43-0795-4bf1-bfe5-54cf5a5d916d",
   "metadata": {},
   "outputs": [],
   "source": [
    "#Question 12 what is the maximum possible length of an identifier in python ?  "
   ]
  },
  {
   "cell_type": "code",
   "execution_count": 5,
   "id": "8953fbe9-cb3a-4542-9fed-a0e123ac1bda",
   "metadata": {},
   "outputs": [],
   "source": [
    "#Answer-  An identifier can have a maximum length \n",
    "#           of 79 characters in Python. "
   ]
  },
  {
   "cell_type": "code",
   "execution_count": 6,
   "id": "a6afecc3-d758-4de8-9cf4-aa5adb38e60d",
   "metadata": {},
   "outputs": [],
   "source": [
    "#Question 13 what are the benefits of using python ?"
   ]
  },
  {
   "cell_type": "code",
   "execution_count": null,
   "id": "7fe9036a-501f-4f20-a354-16083583ab02",
   "metadata": {},
   "outputs": [],
   "source": [
    "#Answer - An identifier can have a maximum length\n",
    "#          of 79 characters in Python."
   ]
  },
  {
   "cell_type": "code",
   "execution_count": 12,
   "id": "c7037111-b4da-4f5c-afe3-94dd631fff1c",
   "metadata": {},
   "outputs": [],
   "source": [
    "#Question 14 how is memory managed in python ?"
   ]
  },
  {
   "cell_type": "code",
   "execution_count": 13,
   "id": "c91d4f35-8137-4f11-930d-a7d0727c03fa",
   "metadata": {},
   "outputs": [],
   "source": [
    "#Answer - Memory management in Python involves a private heap containing all Python\n",
    "#         objects and data structures. "
   ]
  },
  {
   "cell_type": "code",
   "execution_count": 14,
   "id": "d3e0ccc5-310e-4b45-a732-59335be61b78",
   "metadata": {},
   "outputs": [],
   "source": [
    "#Question 15 How to install python on window and set path varriables ?"
   ]
  },
  {
   "cell_type": "code",
   "execution_count": 15,
   "id": "426f1c45-de71-428c-9422-c3622dc735ba",
   "metadata": {},
   "outputs": [],
   "source": [
    "#Answer -The complete path of python.exe can be added by:\n",
    "\n",
    "# 1 .Right-clicking This PC and going to Properties.\n",
    "\n",
    "# 2.Clicking on the Advanced system settings in the menu on the left.\n",
    "\n",
    "#3.Clicking on the Environment Variables button on the bottom right.\n",
    "\n",
    "# 4.In the System variables section, selecting the Path variable and clicking\n",
    "#on Edit. The next screen will show all the directories that are currently \n",
    "#a part of the PATH variable.\n",
    "\n",
    "# 5.Clicking on New and entering Python’s install directory.\n",
    "\n",
    "#Python can now be used directly from the command prompt without having to write its\n",
    "#location. Try executing the command python --version; it will output the version of\n",
    "#Python installed on your system."
   ]
  },
  {
   "cell_type": "code",
   "execution_count": 16,
   "id": "f05f8c2e-3b9e-4e5c-b92d-47dac0082c19",
   "metadata": {},
   "outputs": [],
   "source": [
    "#Question 15 Is identation  requred in python ?"
   ]
  },
  {
   "cell_type": "code",
   "execution_count": null,
   "id": "1d91c6e9-e6b4-4a57-b038-cab02f655bd2",
   "metadata": {},
   "outputs": [],
   "source": [
    "#Answer -"
   ]
  }
 ],
 "metadata": {
  "kernelspec": {
   "display_name": "Python 3 (ipykernel)",
   "language": "python",
   "name": "python3"
  },
  "language_info": {
   "codemirror_mode": {
    "name": "ipython",
    "version": 3
   },
   "file_extension": ".py",
   "mimetype": "text/x-python",
   "name": "python",
   "nbconvert_exporter": "python",
   "pygments_lexer": "ipython3",
   "version": "3.10.8"
  }
 },
 "nbformat": 4,
 "nbformat_minor": 5
}
